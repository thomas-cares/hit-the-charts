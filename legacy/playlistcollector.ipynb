{
 "cells": [
  {
   "cell_type": "code",
   "execution_count": null,
   "metadata": {},
   "outputs": [],
   "source": [
    "import spotipy\n",
    "import spotipy.util as util\n",
    "from spotipy.oauth2 import SpotifyClientCredentials\n",
    "from spotipy.oauth2 import SpotifyOAuth\n",
    "import os\n"
   ]
  },
  {
   "cell_type": "code",
   "execution_count": null,
   "metadata": {},
   "outputs": [],
   "source": [
    "my_client_id=os.getenv('spoti_CLIENT_ID')\n",
    "my_client_secret=os.getenv('spoti_CLIENT_SECRET')"
   ]
  },
  {
   "cell_type": "code",
   "execution_count": null,
   "metadata": {},
   "outputs": [],
   "source": [
    "token = SpotifyClientCredentials(client_id=my_client_id, client_secret=my_client_secret)\n",
    "\n",
    "#token to pull data on particular songs\n",
    "cache_token = token.get_access_token()\n",
    "sp = spotipy.Spotify(cache_token)\n",
    "\n",
    "#token to pull songs of an individual usersp_pers=spotipy.Spotify(cache_token_personal)\n",
    "cache_token_personal= ''\n",
    "sp1=spotipy.Spotify(cache_token_personal)\n",
    "print(cache_token_personal)\n",
    "print(cache_token)"
   ]
  },
  {
   "cell_type": "code",
   "execution_count": null,
   "metadata": {},
   "outputs": [],
   "source": [
    "sp1.current_user_recently_played(limit=50, after=None, before=None)['items'][0]['track']['id']"
   ]
  },
  {
   "cell_type": "code",
   "execution_count": null,
   "metadata": {},
   "outputs": [],
   "source": [
    "##skipping\n",
    "import time\n",
    "for i in range(0,100):\n",
    "    time.sleep(0.5)\n",
    "    lst.append(sp1.currently_playing()['item']['id'])\n",
    "    sp1.next_track()\n",
    "len(lst)"
   ]
  },
  {
   "cell_type": "code",
   "execution_count": null,
   "metadata": {},
   "outputs": [],
   "source": [
    "sp.track('')"
   ]
  },
  {
   "cell_type": "code",
   "execution_count": null,
   "metadata": {},
   "outputs": [],
   "source": []
  }
 ],
 "metadata": {
  "kernelspec": {
   "display_name": "Python 3",
   "language": "python",
   "name": "python3"
  },
  "language_info": {
   "codemirror_mode": {
    "name": "ipython",
    "version": 3
   },
   "file_extension": ".py",
   "mimetype": "text/x-python",
   "name": "python",
   "nbconvert_exporter": "python",
   "pygments_lexer": "ipython3",
   "version": "3.8.5"
  }
 },
 "nbformat": 4,
 "nbformat_minor": 4
}
